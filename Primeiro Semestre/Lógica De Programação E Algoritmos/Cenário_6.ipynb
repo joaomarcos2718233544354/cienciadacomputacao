{
  "nbformat": 4,
  "nbformat_minor": 0,
  "metadata": {
    "colab": {
      "name": "Cenário 6",
      "version": "0.3.2",
      "provenance": [],
      "collapsed_sections": [],
      "include_colab_link": true
    },
    "kernelspec": {
      "name": "python3",
      "display_name": "Python 3"
    }
  },
  "cells": [
    {
      "cell_type": "markdown",
      "metadata": {
        "id": "view-in-github",
        "colab_type": "text"
      },
      "source": [
        "<a href=\"https://colab.research.google.com/github/joaomarcos2718233544354/cienciadacomputacao/blob/master/Primeiro%20Semestre/L%C3%B3gica%20De%20Programa%C3%A7%C3%A3o%20E%20Algoritmos/Cen%C3%A1rio_6.ipynb\" target=\"_parent\"><img src=\"https://colab.research.google.com/assets/colab-badge.svg\" alt=\"Open In Colab\"/></a>"
      ]
    },
    {
      "cell_type": "code",
      "metadata": {
        "id": "XOvlOGK_dbjd",
        "colab_type": "code",
        "colab": {}
      },
      "source": [
        "total=0\n",
        "lista=[]\n",
        "while True:\n",
        "  valor = int(input(\"Informe o valor a ser somado\"))\n",
        "  if valor==0:\n",
        "    print(\"Total da soma {}, numero de elememtos {} e lista de elementos {} \".format (total,len(lista),lista))\n",
        "    break\n",
        "  elif valor>0 and valor<10:\n",
        "    total =total+valor\n",
        "    lista.append(valor)\n",
        "  else:\n",
        "    print(\"Valor informado está incorreto, por favor informar um valor válido\")"
      ],
      "execution_count": 0,
      "outputs": []
    }
  ]
}