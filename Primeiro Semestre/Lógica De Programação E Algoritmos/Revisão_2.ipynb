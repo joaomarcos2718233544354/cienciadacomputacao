{
  "nbformat": 4,
  "nbformat_minor": 0,
  "metadata": {
    "colab": {
      "name": "Revisão 2",
      "version": "0.3.2",
      "provenance": [],
      "include_colab_link": true
    },
    "kernelspec": {
      "name": "python3",
      "display_name": "Python 3"
    }
  },
  "cells": [
    {
      "cell_type": "markdown",
      "metadata": {
        "id": "view-in-github",
        "colab_type": "text"
      },
      "source": [
        "<a href=\"https://colab.research.google.com/github/joaomarcos2718233544354/cienciadacomputacao/blob/master/Primeiro%20Semestre/L%C3%B3gica%20De%20Programa%C3%A7%C3%A3o%20E%20Algoritmos/Revis%C3%A3o_2.ipynb\" target=\"_parent\"><img src=\"https://colab.research.google.com/assets/colab-badge.svg\" alt=\"Open In Colab\"/></a>"
      ]
    },
    {
      "cell_type": "code",
      "metadata": {
        "id": "HSmtRt4aOA4k",
        "colab_type": "code",
        "colab": {}
      },
      "source": [
        "numero=int(input(\"Informe um numero\" ))\n",
        "ant=numero-1\n",
        "suc=numero+1\n",
        "print(\"O número {} tem como antecessor {} e sucessor {}\".format(numero,ant,suc))"
      ],
      "execution_count": 0,
      "outputs": []
    },
    {
      "cell_type": "code",
      "metadata": {
        "id": "3Pr4_y5oOpbz",
        "colab_type": "code",
        "colab": {}
      },
      "source": [
        "numero=int(input(\"Informe um numero\" ))\n",
        "dobro=numero*2\n",
        "triplo=numero*3\n",
        "raiz=numero**(1/2)\n",
        "print(\"O numero {} tem {} como seu dobro, {} como seu triplo e {} como raiz quadarada\".format(numero,dobro,triplo,raiz))"
      ],
      "execution_count": 0,
      "outputs": []
    },
    {
      "cell_type": "code",
      "metadata": {
        "id": "SbuDRZ1BPThz",
        "colab_type": "code",
        "colab": {}
      },
      "source": [
        "n1=int(input(\"Informe a primeira nota\"))\n",
        "n2=int(input(\"Informe a segunda nota\"))\n",
        "media1=n1+n2\n",
        "media2=media1/2\n",
        "print(\"A nota média foi \",media2)"
      ],
      "execution_count": 0,
      "outputs": []
    },
    {
      "cell_type": "code",
      "metadata": {
        "id": "aEBlvdwFP9Ur",
        "colab_type": "code",
        "colab": {}
      },
      "source": [
        "metros=int(input(\"Informe uma quantiade em metros\"))\n",
        "cen=metros*100\n",
        "mm=metros*1000\n",
        "print(\"{} metros tem {} centímetros e {} milímetros\".format(metros,cen,mm))"
      ],
      "execution_count": 0,
      "outputs": []
    },
    {
      "cell_type": "code",
      "metadata": {
        "id": "G5jomIhiQ9_8",
        "colab_type": "code",
        "colab": {}
      },
      "source": [
        "lista=[]\n",
        "mumero=int(input(\"Informe um numero\"))\n",
        "mumero0=numero*0\n",
        "mumero1=numero*1\n",
        "mumero2=numero*2\n",
        "mumero3=numero*3\n",
        "mumero4=numero*4\n",
        "mumero5=numero*5\n",
        "mumero6=numero*6\n",
        "mumero7=numero*7\n",
        "mumero8=numero*8\n",
        "mumero9=numero*9\n",
        "mumero10=numero*10\n",
        "print(\"Tabuada no numero {} é\".format(mumero),mumero0,mumero1,,mumero2,mumero3,mumero4,mumero5,mumero6,mumero7,mumero8,mumero9,mumero10)"
      ],
      "execution_count": 0,
      "outputs": []
    },
    {
      "cell_type": "code",
      "metadata": {
        "id": "ueFgfxBoTBKq",
        "colab_type": "code",
        "colab": {}
      },
      "source": [
        "reais=float(input(\"Quantos reais você tem? \"))\n",
        "dollar=reais/3.27\n",
        "print(\"Com {} reais você pode comprar {} dollar(s)\".format(reais,dollar))"
      ],
      "execution_count": 0,
      "outputs": []
    },
    {
      "cell_type": "code",
      "metadata": {
        "id": "1MGvmAPwUDGJ",
        "colab_type": "code",
        "colab": {}
      },
      "source": [
        "n=float(input(\"Informe um numero\"))\n",
        "inteiro=n//1\n",
        "print(\"O inteiro de {} é {}\".format(n,inteiro))\n"
      ],
      "execution_count": 0,
      "outputs": []
    },
    {
      "cell_type": "code",
      "metadata": {
        "id": "uXPJQ0K5kyiN",
        "colab_type": "code",
        "colab": {}
      },
      "source": [
        "import random\n",
        "pc=random.randint(0,5)\n",
        "vc=int(input(\"Digite um numero de 0 à 5, e tente acertar o número que o computador pensou \"))\n",
        "if pc==vc:\n",
        "  print(\"Parabéns, você acertou\")\n",
        "else:\n",
        "  print(\"Infelizmente vc errou\")"
      ],
      "execution_count": 0,
      "outputs": []
    },
    {
      "cell_type": "code",
      "metadata": {
        "id": "86YD8WPSzH8L",
        "colab_type": "code",
        "colab": {}
      },
      "source": [
        "vel=int(input(\"Qual a velocidade do carro? \"))\n",
        "if vel>80:\n",
        "  multa=(vel-80)*7\n",
        "  print(\"{} é maior do que o limite, a multa será de {}\".format(vel,multa))\n",
        "else:\n",
        "  print(\"Não ultrapassou a velocidade\")"
      ],
      "execution_count": 0,
      "outputs": []
    },
    {
      "cell_type": "code",
      "metadata": {
        "id": "y7KTXOUS1boy",
        "colab_type": "code",
        "colab": {}
      },
      "source": [
        "n=int(input(\"Informe o número\"))\n",
        "fon=n%2\n",
        "if fon==0:\n",
        "  print(\"O número é par\")\n",
        "else:\n",
        "  print(\"O número é ímpar\")"
      ],
      "execution_count": 0,
      "outputs": []
    },
    {
      "cell_type": "code",
      "metadata": {
        "id": "pOdOX_2s2CXD",
        "colab_type": "code",
        "colab": {}
      },
      "source": [
        "d=int(input(\"Quanos km deseja viajar? \"))\n",
        "if d>200:\n",
        "  cd1=d*0.45\n",
        "  print(\"O custo da viagem será {}\".format(cd1))\n",
        "else:\n",
        "  cd2=d*0.50\n",
        "  print(\"O custo da viagem será {}\".format(cd2))"
      ],
      "execution_count": 0,
      "outputs": []
    },
    {
      "cell_type": "code",
      "metadata": {
        "id": "0YVQfv3oBePp",
        "colab_type": "code",
        "colab": {}
      },
      "source": [
        "for c in range(10,0,-1):\n",
        "  print(c)\n",
        "print(\"Fogos\")\n"
      ],
      "execution_count": 0,
      "outputs": []
    },
    {
      "cell_type": "code",
      "metadata": {
        "id": "FQkRqNsYCQBZ",
        "colab_type": "code",
        "colab": {}
      },
      "source": [
        "for p in range(0,51,2):\n",
        "  print(p)"
      ],
      "execution_count": 0,
      "outputs": []
    },
    {
      "cell_type": "code",
      "metadata": {
        "id": "MCkdY0SzCm5v",
        "colab_type": "code",
        "colab": {}
      },
      "source": [
        "for i in range(1,500,2):\n",
        "  m3=i%3\n",
        "  if m3==0:\n",
        "    print(i)\n",
        "  "
      ],
      "execution_count": 0,
      "outputs": []
    },
    {
      "cell_type": "code",
      "metadata": {
        "id": "aHdNRkFKD82I",
        "colab_type": "code",
        "colab": {}
      },
      "source": [
        "tab=int(input(\"Informe um número\"))\n",
        "for c in range(0,11):\n",
        "  tab2=tab*c\n",
        "  print(\"{} x {} = {} \".format(tab,c,tab2))"
      ],
      "execution_count": 0,
      "outputs": []
    },
    {
      "cell_type": "code",
      "metadata": {
        "id": "RB5jGsISFBmm",
        "colab_type": "code",
        "colab": {}
      },
      "source": [
        "while not 'masculino' or 'feminino':\n",
        "  sexo=input('Qual o seu sexo? ')\n",
        "  if sexo=='masculino':\n",
        "    print(\"Você é homem\")\n",
        "    break\n",
        "  elif sexo=='feminino':\n",
        "    print(\"Você é mulher\")\n",
        "    break\n",
        "  else:\n",
        "    print(\"Informe uma outra resposta\")\n",
        "   "
      ],
      "execution_count": 0,
      "outputs": []
    },
    {
      "cell_type": "code",
      "metadata": {
        "id": "B5eXLjVvM3GO",
        "colab_type": "code",
        "colab": {}
      },
      "source": [
        "lista=[]\n",
        "while True:\n",
        "  nome=input(\"Informe um nome\")\n",
        "  if nome=='fim':\n",
        "    break\n",
        "  lista.append(nome)\n",
        "print(\"Foram informados {} nome(s) \".format(len(lista)))\n",
        "for nome in lista:\n",
        "  print(\"Nome informado {} com {} letra(s) \".format(nome,len(nome)))\n",
        "print('Fim da aplicação')"
      ],
      "execution_count": 0,
      "outputs": []
    },
    {
      "cell_type": "code",
      "metadata": {
        "id": "Ty0eYny2t5Sr",
        "colab_type": "code",
        "colab": {}
      },
      "source": [
        "lista=[]\n",
        "while True:\n",
        "  nome=input(\"Informe um nome\")\n",
        "  if nome=='fim':\n",
        "    break\n",
        "  lista.append(nome)\n",
        "for no\n",
        "  print(\"Foram informados {} nome(s) \".format(len(lista)))\n",
        "  print(\"Nome informado {} com {} letra(s) \".format(nome,len(nome)))\n",
        "print('Fim da aplicação')"
      ],
      "execution_count": 0,
      "outputs": []
    }
  ]
}