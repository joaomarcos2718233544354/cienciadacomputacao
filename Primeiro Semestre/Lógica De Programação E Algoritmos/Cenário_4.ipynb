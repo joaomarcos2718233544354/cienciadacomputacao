{
  "nbformat": 4,
  "nbformat_minor": 0,
  "metadata": {
    "colab": {
      "name": "Cenário 4",
      "version": "0.3.2",
      "provenance": [],
      "collapsed_sections": [],
      "include_colab_link": true
    },
    "kernelspec": {
      "name": "python3",
      "display_name": "Python 3"
    }
  },
  "cells": [
    {
      "cell_type": "markdown",
      "metadata": {
        "id": "view-in-github",
        "colab_type": "text"
      },
      "source": [
        "<a href=\"https://colab.research.google.com/github/joaomarcos2718233544354/cienciadacomputacao/blob/master/Primeiro%20Semestre/L%C3%B3gica%20De%20Programa%C3%A7%C3%A3o%20E%20Algoritmos/Cen%C3%A1rio_4.ipynb\" target=\"_parent\"><img src=\"https://colab.research.google.com/assets/colab-badge.svg\" alt=\"Open In Colab\"/></a>"
      ]
    },
    {
      "cell_type": "code",
      "metadata": {
        "id": "jnQfACtuaCs7",
        "colab_type": "code",
        "colab": {}
      },
      "source": [
        "cidade = input(\"Você mora em guaxupé?\" )\n",
        "if cidade == \"sim\":\n",
        "  idade = int(input(\"Qual é a sua idade?\"))\n",
        "  if idade>18:\n",
        "    print(\"Feliz morador de guaxupé com mais de 18 anos\")\n",
        "  else:\n",
        "    print(\"Mais um infante morador de guaxupé\")\n",
        "else:\n",
        "  vontade = input(\"Você tem vontade morar em guaxupé?\")\n",
        "  if vontade == \"sim\":\n",
        "    print(\"Que bom, será muito bem vindo em guaxupé\")\n",
        "  else:\n",
        "    print(\"Ok, também fico feliz em saber que és feliz onde mora \")"
      ],
      "execution_count": 0,
      "outputs": []
    }
  ]
}