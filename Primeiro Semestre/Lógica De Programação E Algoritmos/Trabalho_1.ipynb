{
  "nbformat": 4,
  "nbformat_minor": 0,
  "metadata": {
    "colab": {
      "name": "Trabalho 1",
      "version": "0.3.2",
      "provenance": [],
      "collapsed_sections": [],
      "include_colab_link": true
    },
    "kernelspec": {
      "name": "python3",
      "display_name": "Python 3"
    }
  },
  "cells": [
    {
      "cell_type": "markdown",
      "metadata": {
        "id": "view-in-github",
        "colab_type": "text"
      },
      "source": [
        "<a href=\"https://colab.research.google.com/github/joaomarcos2718233544354/cienciadacomputacao/blob/master/Primeiro%20Semestre/L%C3%B3gica%20De%20Programa%C3%A7%C3%A3o%20E%20Algoritmos/Trabalho_1.ipynb\" target=\"_parent\"><img src=\"https://colab.research.google.com/assets/colab-badge.svg\" alt=\"Open In Colab\"/></a>"
      ]
    },
    {
      "cell_type": "code",
      "metadata": {
        "id": "q9go2XrtUjHt",
        "colab_type": "code",
        "colab": {}
      },
      "source": [
        "valor = int(input(\"Informe o valor\"))\n",
        "if valor <=80:\n",
        "  print(\"O valor é menor ou igual à 80\")\n",
        "else:\n",
        "  print(\"O valor é maior que 80\")\n",
        "print(\"Fim da aplicação\")"
      ],
      "execution_count": 0,
      "outputs": []
    }
  ]
}