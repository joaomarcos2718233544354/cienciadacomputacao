{
  "nbformat": 4,
  "nbformat_minor": 0,
  "metadata": {
    "colab": {
      "name": "Funções",
      "version": "0.3.2",
      "provenance": [],
      "collapsed_sections": [],
      "include_colab_link": true
    },
    "kernelspec": {
      "name": "python3",
      "display_name": "Python 3"
    }
  },
  "cells": [
    {
      "cell_type": "markdown",
      "metadata": {
        "id": "view-in-github",
        "colab_type": "text"
      },
      "source": [
        "<a href=\"https://colab.research.google.com/github/joaomarcos2718233544354/cienciadacomputacao/blob/master/Primeiro%20Semestre/L%C3%B3gica%20De%20Programa%C3%A7%C3%A3o%20E%20Algoritmos/Fun%C3%A7%C3%B5es.ipynb\" target=\"_parent\"><img src=\"https://colab.research.google.com/assets/colab-badge.svg\" alt=\"Open In Colab\"/></a>"
      ]
    },
    {
      "cell_type": "code",
      "metadata": {
        "id": "2c9I5-MOod5H",
        "colab_type": "code",
        "colab": {}
      },
      "source": [
        "def mensagem_ola():\n",
        "  print('Olá mundo')\n",
        "  print('Tudo bem com você?')\n",
        "\n",
        "mensagem_ola()"
      ],
      "execution_count": 0,
      "outputs": []
    },
    {
      "cell_type": "code",
      "metadata": {
        "id": "tgAyXoymrfw1",
        "colab_type": "code",
        "colab": {}
      },
      "source": [
        "def avalia_idade():\n",
        "  idade=int(input('Qual a sua idade?'))\n",
        "  if idade>18:\n",
        "    print('Você tem mais que 18 anos')\n",
        "  if idade<18:\n",
        "    print('Você tem menos que 18 anos')\n",
        "    \n",
        "avalia_idade()"
      ],
      "execution_count": 0,
      "outputs": []
    },
    {
      "cell_type": "code",
      "metadata": {
        "id": "Ox4V7gc9rnBo",
        "colab_type": "code",
        "colab": {}
      },
      "source": [
        "def saudacao(nome):\n",
        "  print('ola ',nome)\n",
        "\n",
        "saudacao('José')\n",
        "saudacao('Juca')\n",
        "saudacao('Django')"
      ],
      "execution_count": 0,
      "outputs": []
    },
    {
      "cell_type": "code",
      "metadata": {
        "id": "_Du6He0isP5v",
        "colab_type": "code",
        "colab": {}
      },
      "source": [
        "import numpy as np\n",
        "\n",
        "def f01(x):\n",
        "  return((-2*x)-1)\n",
        "\n",
        "def f02(x)\n",
        "  return ((2*x)+1)\n",
        "\n",
        "def f03(x)\n",
        "  if x<=-2:\n",
        "    return f01(x):\n",
        "  if -2<x and x<1:\n",
        "    return 3\n",
        "  if 1<=x:\n",
        "    return f02(x)\n",
        "  \n",
        "x=np.arange(-10.0,10.0,0.001)\n",
        "y=[]\n",
        "for v in x\n",
        "  y.append(f00(v))"
      ],
      "execution_count": 0,
      "outputs": []
    },
    {
      "cell_type": "code",
      "metadata": {
        "id": "QOBc-5Ja6uW4",
        "colab_type": "code",
        "colab": {}
      },
      "source": [
        "#Errado\n",
        "nome=[]\n",
        "salario=[]\n",
        "taxa=[]\n",
        "\n",
        "nome2=input('Qual o seu nome?')\n",
        "while nome2!='fim':\n",
        "  salario2=int(input('Informe seu salario' ))\n",
        "  nome.append(nome2)\n",
        "  salario.append(salario2)\n",
        "  if salario2 <= 1000:\n",
        "    taxa2=0\n",
        "    taxa.append(taxa2)\n",
        "  else:\n",
        "    if salario2 <= 3000 and salario2 >1000:\n",
        "      taxa3=salario2*0.15\n",
        "      taxa.append(taxa3)\n",
        "    else:\n",
        "      taxa4=salario2*0.20\n",
        "      taxa.append(taxa4)\n",
        "  nome2=input('Qual o seu nome?')\n",
        "\n",
        "print(nome)\n",
        "print(salario)\n",
        "print(taxa)"
      ],
      "execution_count": 0,
      "outputs": []
    },
    {
      "cell_type": "code",
      "metadata": {
        "id": "S1T_JJOg3MNq",
        "colab_type": "code",
        "colab": {}
      },
      "source": [
        "lst_temp = []\n",
        "lst_dist = []\n",
        "lst_velo = []\n",
        "lst_percent = []\n",
        "lst_testes = []\n",
        "lst_mach = []\n",
        "lst_machDesc = []\n",
        "\n",
        "def fim():\n",
        "  print(\"Fim da execução.\")\n",
        "  \n",
        "\n",
        "def cal_velo():\n",
        "  flo_velo = int_dist / int_temp\n",
        "  lst_velo.append(flo_velo)\n",
        "  \n",
        "  #porcentagem\n",
        "  int_percent = (flo_velo * 100) // 343\n",
        "  lst_percent.append(int_percent)\n",
        "  \n",
        "  \n",
        "  \n",
        "  #velocidade Mach\n",
        "  flo_mach = flo_velo / 343\n",
        "  \n",
        "  if flo_mach < 0.8:\n",
        "    lst_mach.append(flo_mach)\n",
        "    lst_machDesc.append(\"subsônico\")\n",
        "  elif flo_mach > 0.8 and flo_mach < 1.3:\n",
        "    lst_mach.append(flo_mach)\n",
        "    lst_machDesc.append(\"transsônico\")\n",
        "  elif flo_mach > 1.3 and flo_mach < 5.0:\n",
        "    lst_mach.append(flo_mach)\n",
        "    lst_machDesc.append(\"supersônico\")\n",
        "  elif flo_mach > 5.0 and flo_mach < 10.0:\n",
        "    lst_mach.append(flo_mach)\n",
        "    lst_machDesc.append(\"hipersônico\")\n",
        "  elif flo_mach > 10.0 and flo_mach < 25.0:\n",
        "    lst_mach.append(flo_mach)\n",
        "    lst_machDesc.append(\"alto-hipersônico\")\n",
        "  elif flo_mach > 25.0:\n",
        "    lst_mach.append(flo_mach)\n",
        "    lst_machDesc.append(\"velocidade de entrada atmosférica\")\n",
        "    \n",
        "  \n",
        "def results():\n",
        "  for p, n in enumerate(lst_testes):\n",
        "    print(\"{}) Tempo gasto: {} s ~ Distância percorrida: {} m ~ Velocidade: {} m/s ~ {}% da velocidade do som ~ Mach {} ({})\".format(n, lst_temp[p], lst_dist[p], lst_velo[p], lst_percent[p], lst_mach[p], lst_machDesc[p]))\n",
        "   \n",
        "  \n",
        "while True:\n",
        "  \n",
        "  int_temp = int(input(\"Insira o tempo percorrido (em segundos): \"))\n",
        "  int_dist = int(input(\"Insira a distância percorrida (em metros): \"))\n",
        "  \n",
        "  if int_temp == 0:\n",
        "    break\n",
        "  \n",
        "  elif int_dist == 0:\n",
        "    break\n",
        "  \n",
        "  else:\n",
        "    lst_temp.append(int_temp)\n",
        "    lst_dist.append(int_dist)\n",
        "    cal_velo()\n",
        "    \n",
        "results()\n",
        "  \n",
        "  \n",
        "print(lst_temp)\n",
        "print(lst_dist)\n",
        "print(lst_velo)\n",
        "print(lst_percent)\n",
        "fim()"
      ],
      "execution_count": 0,
      "outputs": []
    }
  ]
}