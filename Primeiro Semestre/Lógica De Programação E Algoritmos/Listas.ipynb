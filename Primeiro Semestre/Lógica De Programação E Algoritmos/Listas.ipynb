{
  "nbformat": 4,
  "nbformat_minor": 0,
  "metadata": {
    "colab": {
      "name": "Listas",
      "version": "0.3.2",
      "provenance": [],
      "collapsed_sections": [],
      "include_colab_link": true
    },
    "kernelspec": {
      "name": "python3",
      "display_name": "Python 3"
    }
  },
  "cells": [
    {
      "cell_type": "markdown",
      "metadata": {
        "id": "view-in-github",
        "colab_type": "text"
      },
      "source": [
        "<a href=\"https://colab.research.google.com/github/joaomarcos2718233544354/cienciadacomputacao/blob/master/Primeiro%20Semestre/L%C3%B3gica%20De%20Programa%C3%A7%C3%A3o%20E%20Algoritmos/Listas.ipynb\" target=\"_parent\"><img src=\"https://colab.research.google.com/assets/colab-badge.svg\" alt=\"Open In Colab\"/></a>"
      ]
    },
    {
      "cell_type": "code",
      "metadata": {
        "id": "1rvpMxZsSVh_",
        "colab_type": "code",
        "colab": {}
      },
      "source": [
        "l1=['vodka','breja','tequila','bomberinho','farmacia']\n",
        "l2=[1,2,3,4,5,6,7,8,9,0]\n",
        "l3=['a','b','c','d']\n",
        "lt=[l1,l2,l3]\n",
        "#print(lt[0])\n",
        "print(lt[0][-1],lt[1][-1])"
      ],
      "execution_count": 0,
      "outputs": []
    },
    {
      "cell_type": "code",
      "metadata": {
        "id": "YRlBaTCEWFJc",
        "colab_type": "code",
        "colab": {}
      },
      "source": [
        "l=[]\n",
        "l.append(1)\n",
        "l.append('João')\n",
        "print(l)\n",
        "print(len(l))\n",
        "l.append('Suco')\n",
        "print(len(l))"
      ],
      "execution_count": 0,
      "outputs": []
    },
    {
      "cell_type": "code",
      "metadata": {
        "id": "yiSmXcU-Wtub",
        "colab_type": "code",
        "colab": {}
      },
      "source": [
        "import numpy as np\n",
        "l=list(np.arange(0.0,100,0.001))\n",
        "#print(l)\n",
        "#print(len(l))\n",
        "for i in l:\n",
        "  print(i)\n"
      ],
      "execution_count": 0,
      "outputs": []
    },
    {
      "cell_type": "code",
      "metadata": {
        "id": "A5qEqkRjZdnU",
        "colab_type": "code",
        "colab": {}
      },
      "source": [
        "l1=['vodka','breja','tequila','bomberinho','farmacia']\n",
        "l1.append('conhaque')\n",
        "#print(l1)\n",
        "#del l1[3]\n",
        "#print(l1)\n",
        "#l1[-1]='pinga'\n",
        "print(l1[-1])\n",
        "#print(l1)\n",
        "#l1[-1]='pinga'\n",
        "#l1.append(copo)\n",
        "print(l1)"
      ],
      "execution_count": 0,
      "outputs": []
    },
    {
      "cell_type": "code",
      "metadata": {
        "id": "ZEpeBl0glbuy",
        "colab_type": "code",
        "colab": {}
      },
      "source": [
        "#Máximo e mínimo\n",
        "#l1,l2=[1,2,3,4,5,6],['a',1,'jose','livro',3.4]\n",
        "l1=[1,2,3,4,5,6]\n",
        "print(max(l1))\n",
        "print(min(l1))"
      ],
      "execution_count": 0,
      "outputs": []
    },
    {
      "cell_type": "code",
      "metadata": {
        "id": "VYCvU62fnz9v",
        "colab_type": "code",
        "colab": {}
      },
      "source": [
        "#Trnsformar em lista e procurar uma letra ou número especifico\n",
        "l1=list('sopa')\n",
        "print(l1)\n",
        "print('Numero de a é',l1.count('a'))"
      ],
      "execution_count": 0,
      "outputs": []
    },
    {
      "cell_type": "code",
      "metadata": {
        "id": "4F8In350qgSY",
        "colab_type": "code",
        "colab": {}
      },
      "source": [
        "#Anexar listas e apagar elementos\n",
        "l1=list('Maria')\n",
        "l2=list(range(5))\n",
        "print(l1)\n",
        "print(l2)\n",
        "l2.extend(l1)\n",
        "print(l2)\n",
        "l2.remove('M')\n",
        "print(l2)"
      ],
      "execution_count": 0,
      "outputs": []
    },
    {
      "cell_type": "code",
      "metadata": {
        "id": "-zZtgfERr0Nv",
        "colab_type": "code",
        "colab": {}
      },
      "source": [
        "#Em qual posição está o algorítmo\n",
        "l1=list('Juau')\n",
        "print(l1.index('J'))"
      ],
      "execution_count": 0,
      "outputs": []
    },
    {
      "cell_type": "code",
      "metadata": {
        "id": "Yh5UtweksKK3",
        "colab_type": "code",
        "colab": {}
      },
      "source": [
        "l1=list(1,2,3,53,5,0)\n",
        "print(l1.sort())"
      ],
      "execution_count": 0,
      "outputs": []
    }
  ]
}