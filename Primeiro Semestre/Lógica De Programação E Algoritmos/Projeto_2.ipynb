{
  "nbformat": 4,
  "nbformat_minor": 0,
  "metadata": {
    "colab": {
      "name": "Projeto 2",
      "version": "0.3.2",
      "provenance": [],
      "include_colab_link": true
    },
    "kernelspec": {
      "name": "python3",
      "display_name": "Python 3"
    }
  },
  "cells": [
    {
      "cell_type": "markdown",
      "metadata": {
        "id": "view-in-github",
        "colab_type": "text"
      },
      "source": [
        "<a href=\"https://colab.research.google.com/github/joaomarcos2718233544354/cienciadacomputacao/blob/master/Primeiro%20Semestre/L%C3%B3gica%20De%20Programa%C3%A7%C3%A3o%20E%20Algoritmos/Projeto_2.ipynb\" target=\"_parent\"><img src=\"https://colab.research.google.com/assets/colab-badge.svg\" alt=\"Open In Colab\"/></a>"
      ]
    },
    {
      "cell_type": "code",
      "metadata": {
        "id": "0oSJdfLnCXGn",
        "colab_type": "code",
        "colab": {}
      },
      "source": [
        "j=0\n",
        "while True:\n",
        "  qtd = int(input(\"Informar quantidade\"))\n",
        "  if qtd==0:\n",
        "    print(\"fim sem embalar\")\n",
        "    break\n",
        "  elif qtd >100:\n",
        "    while True:\n",
        "      qtd=qtd-10\n",
        "      j=j+1\n",
        "      if qtd<10:\n",
        "        print(\"Caixas embaladas\",j)\n",
        "        print(\"Refugos\",qtd)\n",
        "        break\n",
        "    break\n",
        "print(\"Fim\")\n",
        "  "
      ],
      "execution_count": 0,
      "outputs": []
    }
  ]
}