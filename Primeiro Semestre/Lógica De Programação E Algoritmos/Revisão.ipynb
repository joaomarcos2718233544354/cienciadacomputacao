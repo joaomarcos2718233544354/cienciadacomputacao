{
  "nbformat": 4,
  "nbformat_minor": 0,
  "metadata": {
    "colab": {
      "name": "Revisão",
      "version": "0.3.2",
      "provenance": [],
      "collapsed_sections": [],
      "include_colab_link": true
    },
    "kernelspec": {
      "name": "python3",
      "display_name": "Python 3"
    }
  },
  "cells": [
    {
      "cell_type": "markdown",
      "metadata": {
        "id": "view-in-github",
        "colab_type": "text"
      },
      "source": [
        "<a href=\"https://colab.research.google.com/github/joaomarcos2718233544354/cienciadacomputacao/blob/master/Primeiro%20Semestre/L%C3%B3gica%20De%20Programa%C3%A7%C3%A3o%20E%20Algoritmos/Revis%C3%A3o.ipynb\" target=\"_parent\"><img src=\"https://colab.research.google.com/assets/colab-badge.svg\" alt=\"Open In Colab\"/></a>"
      ]
    },
    {
      "cell_type": "code",
      "metadata": {
        "id": "LXzW6JVyFncA",
        "colab_type": "code",
        "colab": {}
      },
      "source": [
        "def falar_ola(nome):\n",
        "  print(\"Ola\",nome)\n",
        "falar_ola(\"Tereza\")"
      ],
      "execution_count": 0,
      "outputs": []
    },
    {
      "cell_type": "code",
      "metadata": {
        "id": "Wy-msZ3RoYhF",
        "colab_type": "code",
        "colab": {}
      },
      "source": [
        "qtd=100\n",
        "#for i in range(qtd):\n",
        "#for i in range(3,10):\n",
        "#for i in range(2,10,2):\n",
        "for i in range(10,2,-1):\n",
        "  print(i)"
      ],
      "execution_count": 0,
      "outputs": []
    },
    {
      "cell_type": "code",
      "metadata": {
        "id": "mPZAi0xbpKSA",
        "colab_type": "code",
        "colab": {}
      },
      "source": [
        "qtd=10\n",
        "for i in range(qtd,0,-1)\n",
        "  print(i)\n",
        "print(\"saí do loop\")"
      ],
      "execution_count": 0,
      "outputs": []
    },
    {
      "cell_type": "code",
      "metadata": {
        "id": "rNBpuRc4tVYo",
        "colab_type": "code",
        "colab": {}
      },
      "source": [
        "qtd=0\n",
        "while not qtd ==0:\n",
        "  qtd-=1\n",
        "  print(qtd)\n",
        "print(\"saí do loop\")"
      ],
      "execution_count": 0,
      "outputs": []
    },
    {
      "cell_type": "code",
      "metadata": {
        "id": "L1TjaXM1upuX",
        "colab_type": "code",
        "colab": {}
      },
      "source": [
        "qtd=10\n",
        "while True:\n",
        "  qtd-=1\n",
        "  print(qtd)\n",
        "  if qtd==0:\n",
        "    break\n",
        "print(\"saí do loop\")"
      ],
      "execution_count": 0,
      "outputs": []
    },
    {
      "cell_type": "code",
      "metadata": {
        "id": "DuLtLtBrf_rZ",
        "colab_type": "code",
        "colab": {}
      },
      "source": [
        "valor=0\n",
        "for i in range(0,30,2):\n",
        "  valor=valor+i\n",
        "print(valor)"
      ],
      "execution_count": 0,
      "outputs": []
    },
    {
      "cell_type": "code",
      "metadata": {
        "id": "PS-xz1GUJmGv",
        "colab_type": "code",
        "colab": {}
      },
      "source": [
        "#Errado\n",
        "while True:\n",
        "  nome=input(\"Digite um nome\" )\n",
        "  if nome!='fim':\n",
        "    print(\"Tem {} letras no nome {} \".format(len(nome),nome))\n",
        "  else:\n",
        "    print(\"Fim da aplicação\")\n",
        "    break\n",
        "\n",
        " "
      ],
      "execution_count": 0,
      "outputs": []
    },
    {
      "cell_type": "code",
      "metadata": {
        "id": "EUoWfj1bfEVo",
        "colab_type": "code",
        "colab": {}
      },
      "source": [
        "#certo\n",
        "lista=[]\n",
        "while True:\n",
        "  nome=input(\"Informe um nome\")\n",
        "  if nome=='fim':\n",
        "    break\n",
        "  lista.append(nome)\n",
        "print(\"Foram informados {} nome(s) \".format(len(lista)))\n",
        "for nome in lista:\n",
        "  print(\"Nome informado {} com {} letra(s) \".format(nome,len(nome)))\n",
        "print('Fim da aplicação')"
      ],
      "execution_count": 0,
      "outputs": []
    },
    {
      "cell_type": "code",
      "metadata": {
        "id": "tRlXPwCl3p7x",
        "colab_type": "code",
        "colab": {}
      },
      "source": [
        "nome=input(\"Qual o seu nome? \")\n",
        "print(\"Bem vindo(a)\",nome)"
      ],
      "execution_count": 0,
      "outputs": []
    },
    {
      "cell_type": "code",
      "metadata": {
        "id": "iVGIodUy7rlA",
        "colab_type": "code",
        "colab": {}
      },
      "source": [
        "ano=int(input(\"Em qual ano você nasceu? \"))\n",
        "mês=int(input(\"Em qual mês você nasceu? \"))\n",
        "dia= int(input(\"Em qual dia vc nasceu? \"))\n",
        "print(\"Você nasceu em {}/{}/{}\".format(dia,mês,ano))"
      ],
      "execution_count": 0,
      "outputs": []
    },
    {
      "cell_type": "code",
      "metadata": {
        "id": "C-EzJ4JV-Gh-",
        "colab_type": "code",
        "colab": {}
      },
      "source": [
        "numero1=int(input(\"Informe o primeiro numero \"))\n",
        "numero2=int(input(\"Informe o segundo numero \"))\n",
        "soma=numero1 + numero2\n",
        "print(soma)"
      ],
      "execution_count": 0,
      "outputs": []
    },
    {
      "cell_type": "code",
      "metadata": {
        "id": "gAZMlBZRL4Fb",
        "colab_type": "code",
        "colab": {}
      },
      "source": [
        "numero=int(input(\"Informe um numero\"))\n",
        "ant=numero-1\n",
        "suc=numero+1\n",
        "print(\"O antecessor do numero {} é {} e o sucessor do mesmo é {}\".format(numero,ant,suc))"
      ],
      "execution_count": 0,
      "outputs": []
    }
  ]
}