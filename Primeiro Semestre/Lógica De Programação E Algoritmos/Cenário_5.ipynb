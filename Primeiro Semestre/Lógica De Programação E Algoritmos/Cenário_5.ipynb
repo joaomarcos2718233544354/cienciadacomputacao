{
  "nbformat": 4,
  "nbformat_minor": 0,
  "metadata": {
    "colab": {
      "name": "Cenário 5",
      "version": "0.3.2",
      "provenance": [],
      "include_colab_link": true
    },
    "kernelspec": {
      "name": "python3",
      "display_name": "Python 3"
    }
  },
  "cells": [
    {
      "cell_type": "markdown",
      "metadata": {
        "id": "view-in-github",
        "colab_type": "text"
      },
      "source": [
        "<a href=\"https://colab.research.google.com/github/joaomarcos2718233544354/cienciadacomputacao/blob/master/Primeiro%20Semestre/L%C3%B3gica%20De%20Programa%C3%A7%C3%A3o%20E%20Algoritmos/Cen%C3%A1rio_5.ipynb\" target=\"_parent\"><img src=\"https://colab.research.google.com/assets/colab-badge.svg\" alt=\"Open In Colab\"/></a>"
      ]
    },
    {
      "cell_type": "code",
      "metadata": {
        "id": "cW1RchBzb7T8",
        "colab_type": "code",
        "colab": {}
      },
      "source": [
        "valor=0\n",
        "while True:\n",
        "  soma = int(input(\"Informe um valor\" ))\n",
        "  if soma ==0:\n",
        "    print(\"A soma é:\",valor)\n",
        "    break\n",
        "  elif soma>0 and soma<10:\n",
        "    valor = soma + valor\n",
        "  else:\n",
        "    print(\"Informe um valor valido\")"
      ],
      "execution_count": 0,
      "outputs": []
    }
  ]
}