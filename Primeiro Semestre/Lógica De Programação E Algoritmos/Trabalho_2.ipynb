{
  "nbformat": 4,
  "nbformat_minor": 0,
  "metadata": {
    "colab": {
      "name": "Trabalho 2",
      "version": "0.3.2",
      "provenance": [],
      "include_colab_link": true
    },
    "kernelspec": {
      "name": "python3",
      "display_name": "Python 3"
    }
  },
  "cells": [
    {
      "cell_type": "markdown",
      "metadata": {
        "id": "view-in-github",
        "colab_type": "text"
      },
      "source": [
        "<a href=\"https://colab.research.google.com/github/joaomarcos2718233544354/cienciadacomputacao/blob/master/Primeiro%20Semestre/L%C3%B3gica%20De%20Programa%C3%A7%C3%A3o%20E%20Algoritmos/Trabalho_2.ipynb\" target=\"_parent\"><img src=\"https://colab.research.google.com/assets/colab-badge.svg\" alt=\"Open In Colab\"/></a>"
      ]
    },
    {
      "cell_type": "code",
      "metadata": {
        "id": "kRHPeDRAnLBZ",
        "colab_type": "code",
        "colab": {}
      },
      "source": [
        "val_inicio = int(input(\"Informe seu valor de início: \"))\n",
        "val_fim = int(input(\"informe o valor de término: \"))\n",
        "operação = input(\"Operação a ser executada, adição ou subtração: \")\n",
        "passo = int(input(\"Informe o valor de passo: \"))\n",
        "while True:\n",
        "  if operação == 'A':\n",
        "    val_inicio = val_inicio + passo\n",
        "    print(\"O novo valor (+) em\", val_inicio)\n",
        "  elif operação =='S':\n",
        "    val_inicio = val_inicio - passo\n",
        "    print(\"O valor (-) em\", val_inicio) \n",
        "    if val_inicio==0:\n",
        "      break\n",
        "  else:\n",
        "    print(\"Operação informada não existe\")\n",
        "    break\n",
        "  if val_inicio == val_fim:\n",
        "    print(\"Contagem realizada\")\n",
        "    break\n",
        "print(\"Sucesso\")"
      ],
      "execution_count": 0,
      "outputs": []
    }
  ]
}