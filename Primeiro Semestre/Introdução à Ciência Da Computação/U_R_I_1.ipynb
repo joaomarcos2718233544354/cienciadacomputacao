{
  "nbformat": 4,
  "nbformat_minor": 0,
  "metadata": {
    "colab": {
      "name": "U.R.I. 1",
      "version": "0.3.2",
      "provenance": [],
      "collapsed_sections": [],
      "include_colab_link": true
    },
    "kernelspec": {
      "name": "python3",
      "display_name": "Python 3"
    }
  },
  "cells": [
    {
      "cell_type": "markdown",
      "metadata": {
        "id": "view-in-github",
        "colab_type": "text"
      },
      "source": [
        "<a href=\"https://colab.research.google.com/github/joaomarcos2718233544354/cienciadacomputacao/blob/master/Primeiro%20Semestre/Introdu%C3%A7%C3%A3o%20%C3%A0%20Ci%C3%AAncia%20Da%20Computa%C3%A7%C3%A3o/U_R_I_1.ipynb\" target=\"_parent\"><img src=\"https://colab.research.google.com/assets/colab-badge.svg\" alt=\"Open In Colab\"/></a>"
      ]
    },
    {
      "cell_type": "code",
      "metadata": {
        "id": "f-nuS9KCOuTB",
        "colab_type": "code",
        "colab": {}
      },
      "source": [
        "A = int(input()) \n",
        "B = int(input())\n",
        "\n",
        "X = A + B\n",
        "print('X =',X)"
      ],
      "execution_count": 0,
      "outputs": []
    },
    {
      "cell_type": "code",
      "metadata": {
        "id": "ithum2QqRLkM",
        "colab_type": "code",
        "colab": {}
      },
      "source": [
        "Raio = float(input(''))\n",
        "Area = ((Raio**2 )*3.14159)\n",
        "print('A=%.4F'%(Area))"
      ],
      "execution_count": 0,
      "outputs": []
    },
    {
      "cell_type": "code",
      "metadata": {
        "id": "aFbqMrUvK_jG",
        "colab_type": "code",
        "colab": {}
      },
      "source": [
        "A = int(input())\n",
        "B = int(input())\n",
        "SOMA = A+B\n",
        "print('SOMA =',SOMA)"
      ],
      "execution_count": 0,
      "outputs": []
    },
    {
      "cell_type": "code",
      "metadata": {
        "id": "Cak7xY3OLzU_",
        "colab_type": "code",
        "colab": {}
      },
      "source": [
        "A = int(input())\n",
        "B = int(input())\n",
        "PROD = A*B\n",
        "print('PROD =',PROD)"
      ],
      "execution_count": 0,
      "outputs": []
    },
    {
      "cell_type": "code",
      "metadata": {
        "id": "stBbUcDZMZLG",
        "colab_type": "code",
        "colab": {}
      },
      "source": [
        "A = float(input())\n",
        "B = float(input())\n",
        "MEDIA = (A*3.5+B*7.5)/11\n",
        "print('MEDIA = %.5F'%MEDIA)"
      ],
      "execution_count": 0,
      "outputs": []
    },
    {
      "cell_type": "code",
      "metadata": {
        "id": "leIxC3WWRsf5",
        "colab_type": "code",
        "colab": {}
      },
      "source": [
        "A = float(input())\n",
        "B = float(input())\n",
        "C = float(input())\n",
        "\n",
        "MEDIA =(A*2+B*3+C*5)/10\n",
        "print('MEDIA = %.1F'%MEDIA)"
      ],
      "execution_count": 0,
      "outputs": []
    },
    {
      "cell_type": "code",
      "metadata": {
        "id": "_A7ZJWvnTEtI",
        "colab_type": "code",
        "colab": {}
      },
      "source": [
        "A = int(input())\n",
        "B = int(input())\n",
        "C = int(input())\n",
        "D = int(input())\n",
        "\n",
        "DIFERENCA = A*B-C*D\n",
        "print('DIFERENCA =',DIFERENCA)"
      ],
      "execution_count": 0,
      "outputs": []
    },
    {
      "cell_type": "code",
      "metadata": {
        "id": "pfbmOEzkTt-I",
        "colab_type": "code",
        "colab": {}
      },
      "source": [
        "numero = int(input())\n",
        "horas  = int(input()) \n",
        "vph    = float(input())\n",
        "salario = horas*vph\n",
        "\n",
        "print('NUMBER =',numero)\n",
        "print('SALARY = U$ %.2F'%salario)"
      ],
      "execution_count": 0,
      "outputs": []
    },
    {
      "cell_type": "code",
      "metadata": {
        "id": "BsUDiKf2V7ei",
        "colab_type": "code",
        "colab": {}
      },
      "source": [
        "nome = input()\n",
        "sf   = float(input()) \n",
        "vendas = float(input())\n",
        "scb = (sf)+(vendas*15)/100\n",
        "print('TOTAL = R$ %.2F'%scb) "
      ],
      "execution_count": 0,
      "outputs": []
    },
    {
      "cell_type": "code",
      "metadata": {
        "id": "cfZ59t_9Y4u5",
        "colab_type": "code",
        "colab": {}
      },
      "source": [
        "CP1 = int(input())\n",
        "NP1 = int(input())\n",
        "VU1 = float(input())\n",
        "CP2 = int(input())\n",
        "NP2 = int(input())\n",
        "VU2 = float(input())\n",
        "\n",
        "valor = NP1*VU1+NP2*VU2\n",
        "print('VALOR A PAGAR: R$ %.2F'%valor)"
      ],
      "execution_count": 0,
      "outputs": []
    },
    {
      "cell_type": "code",
      "metadata": {
        "id": "eOxFfb24rgoi",
        "colab_type": "code",
        "colab": {}
      },
      "source": [
        "p1 = input()\n",
        "p2 = input()\n",
        "s1 = p1.split(\" \")\n",
        "s2 = p2.split(\" \")\n",
        "\n",
        "n11 = [float(n) for n in s1]\n",
        "n22 = [float(n) for n in s2]\n",
        "cp1,np1,vu1 = n11\n",
        "cp2,np2,vu2 = n22\n",
        "\n",
        "resultado = np1*vu1+np2*vu2\n",
        "print('VALOR A PAGAR: R$ %.2F'%resultado)"
      ],
      "execution_count": 0,
      "outputs": []
    },
    {
      "cell_type": "code",
      "metadata": {
        "id": "Mfkumx_RLLw7",
        "colab_type": "code",
        "colab": {}
      },
      "source": [
        "R = float(input())\n",
        "VOLUME = (4.0/3)*3.14159*(R**3)\n",
        "print('VOLUME = %.3F'%VOLUME)"
      ],
      "execution_count": 0,
      "outputs": []
    },
    {
      "cell_type": "code",
      "metadata": {
        "id": "LbSeYtEJtrQw",
        "colab_type": "code",
        "colab": {}
      },
      "source": [
        "X = int(input())\n",
        "Y = float(input())\n",
        "Km/l = X / Y\n",
        "print (\"{:.3f}\".format(Km/l), \"km/l\")"
      ],
      "execution_count": 0,
      "outputs": []
    },
    {
      "cell_type": "code",
      "metadata": {
        "id": "TdC6m_OluGTo",
        "colab_type": "code",
        "colab": {}
      },
      "source": [
        "X = int(input())\n",
        "Y = float(input())\n",
        "Km = X / Y\n",
        "print(\"{:.3f}\".format(Km), \"km/l\")\n"
      ],
      "execution_count": 0,
      "outputs": []
    },
    {
      "cell_type": "code",
      "metadata": {
        "id": "6rUu9mZfu_F5",
        "colab_type": "code",
        "colab": {}
      },
      "source": [
        "p1 = input()\n",
        "p2 = input()\n",
        "s1 = p1.split(\" \")\n",
        "s2 = p2.split(\" \")\n",
        "\n",
        "n1 = [float(n) for n in s1]\n",
        "n2 = [float(n) for n in s2]\n",
        "x1,y1 = n1\n",
        "x2,y2 = n2\n",
        "\n",
        "distancia = (((x2-x1)**2)+((y2-y1)**2))**(1/2)\n",
        "print(\"%.4F\"%distancia)"
      ],
      "execution_count": 0,
      "outputs": []
    },
    {
      "cell_type": "code",
      "metadata": {
        "id": "xzq7RDcn5plS",
        "colab_type": "code",
        "colab": {}
      },
      "source": [
        "Y = int(input())\n",
        "resultado = (Y*10)/5\n",
        "print('{} minutos'.format(int(resultado)))"
      ],
      "execution_count": 0,
      "outputs": []
    },
    {
      "cell_type": "code",
      "metadata": {
        "id": "8hYpr95N7aS7",
        "colab_type": "code",
        "colab": {}
      },
      "source": [
        "tempo = int(input())\n",
        "velocidade = int(input())\n",
        "resultado  = (tempo*velocidade)/12\n",
        "print('%.3F'%resultado)"
      ],
      "execution_count": 0,
      "outputs": []
    },
    {
      "cell_type": "code",
      "metadata": {
        "id": "rHxv5nn2_WFs",
        "colab_type": "code",
        "colab": {}
      },
      "source": [
        "N = int(input())\n",
        "horas = N/3600\n",
        "minutos = (N%3600)/60\n",
        "segundos = (N%3600)%60\n",
        "print('{}:{}:{}'.format(int(horas),int(minutos),int(segundos)))"
      ],
      "execution_count": 0,
      "outputs": []
    },
    {
      "cell_type": "code",
      "metadata": {
        "id": "06vBpWiY-RTU",
        "colab_type": "code",
        "colab": {}
      },
      "source": [
        "N = int(input())\n",
        "anos = N//365\n",
        "meses = (N%365)//30\n",
        "dias = (N%365)%30\n",
        "print(anos,'anos(s)')\n",
        "print(meses,'mes(es)')\n",
        "print(dias,'dia(s)')"
      ],
      "execution_count": 0,
      "outputs": []
    },
    {
      "cell_type": "code",
      "metadata": {
        "id": "uec13pHnAWd_",
        "colab_type": "code",
        "colab": {}
      },
      "source": [
        "idade = int(input())\n",
        "anos = idade//365\n",
        "meses = (idade%365)//30\n",
        "dias = (idade%365)%30\n",
        "print(anos,'ano(s)')\n",
        "print(meses,'mes(es)')\n",
        "print(dias,'dia(s)')"
      ],
      "execution_count": 0,
      "outputs": []
    },
    {
      "cell_type": "code",
      "metadata": {
        "id": "z6NQZKiASGMJ",
        "colab_type": "code",
        "colab": {}
      },
      "source": [
        "pi = 3.14159\n",
        "p1 = input()\n",
        "s1 = p1.split(\" \")\n",
        "n1 = [float(n) for n in s1]\n",
        "A,B,C = n1\n",
        "\n",
        "TRIANGULO = (A*C)/2\n",
        "CIRCULO = pi*(C**2)\n",
        "TRAPEZIO = ((A+B)*C)/2\n",
        "QUADRADO = B*B\n",
        "RETANGULO = A*B\n",
        "\n",
        "print('TRIANGULO: %.3F'%TRIANGULO)\n",
        "print('CIRCULO: %.3F'%CIRCULO)\n",
        "print('TRAPEZIO: %.3F'%TRAPEZIO)\n",
        "print('QUADRADO: %.3F'%QUADRADO)\n",
        "print('RETANGULO: %.3F'%RETANGULO)"
      ],
      "execution_count": 0,
      "outputs": []
    },
    {
      "cell_type": "code",
      "metadata": {
        "id": "cWmwaXUaUnQO",
        "colab_type": "code",
        "colab": {}
      },
      "source": [
        "p1 = input()\n",
        "s1 = p1.split(\" \")\n",
        "n1 = [int(n) for n in s1]\n",
        "a,b,c = n1\n",
        "\n",
        "AB = ((a+b)+abs(a-b))//2\n",
        "AC = ((AB+c)+abs(AB-c))//2\n",
        "maior = ((AB+AC)+abs(AB-AC))//2\n",
        "print(maior,'eh o maior')"
      ],
      "execution_count": 0,
      "outputs": []
    },
    {
      "cell_type": "code",
      "metadata": {
        "id": "a2kLlPvUcpN5",
        "colab_type": "code",
        "colab": {}
      },
      "source": [
        "N = int(input())\n",
        "n100 = N//100\n",
        "n50 = (N%100)//50\n",
        "n20 = ((N%100)%50)//20\n",
        "n10 = (((N%100)%50)%20)//10\n",
        "n5 = ((((N%100)%50)%20)%10)//5\n",
        "n2 = (((((N%100)%50)%20)%10)%5)//2\n",
        "n1 = ((((((N%100)%50)%20)%10)%5)%2)//1\n",
        "\n",
        "print(N)\n",
        "print(n100,'nota(s) de R$ 100,00')\n",
        "print(n50,'nota(s) de R$ 50,00')\n",
        "print(n20,'nota(s) de R$ 20,00')\n",
        "print(n10,'nota(s) de R$ 10,00')\n",
        "print(n5,'nota(s) de R$ 5,00')\n",
        "print(n2,'nota(s) de R$ 2,00')\n",
        "print(n1,'nota(s) de R$ 1,00')"
      ],
      "execution_count": 0,
      "outputs": []
    }
  ]
}