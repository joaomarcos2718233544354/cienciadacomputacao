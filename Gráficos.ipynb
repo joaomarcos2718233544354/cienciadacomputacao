{
  "nbformat": 4,
  "nbformat_minor": 0,
  "metadata": {
    "colab": {
      "name": "Gráficos",
      "version": "0.3.2",
      "provenance": [],
      "collapsed_sections": [],
      "include_colab_link": true
    },
    "kernelspec": {
      "name": "python3",
      "display_name": "Python 3"
    }
  },
  "cells": [
    {
      "cell_type": "markdown",
      "metadata": {
        "id": "view-in-github",
        "colab_type": "text"
      },
      "source": [
        "<a href=\"https://colab.research.google.com/github/joaomarcos2718233544354/cienciadacomputacao/blob/master/Gr%C3%A1ficos.ipynb\" target=\"_parent\"><img src=\"https://colab.research.google.com/assets/colab-badge.svg\" alt=\"Open In Colab\"/></a>"
      ]
    },
    {
      "cell_type": "code",
      "metadata": {
        "id": "2tHWjH8SqiWO",
        "colab_type": "code",
        "colab": {}
      },
      "source": [
        "import numpy as np\n",
        "import matplotlib.pyplot as plt\n",
        "\n",
        "x=np.arange(0.0,2.0,0.01)\n",
        "y=1+np.sin(2*np.pi*x)\n",
        "y2=1+np.cos(2*np.pi*x)\n",
        "\n",
        "fig,ax=plt.subplots()\n",
        "\n",
        "ax.plot(x,y,'--',x,y2)\n",
        "\n",
        "#print(x)\n",
        "#print(y)"
      ],
      "execution_count": 0,
      "outputs": []
    },
    {
      "cell_type": "code",
      "metadata": {
        "id": "0r7vgzIRzuQV",
        "colab_type": "code",
        "colab": {}
      },
      "source": [
        "import numpy as np\n",
        "import matplotlib.pyplot as plt\n",
        "\n",
        "x=np.arange(0.0,4.0,0.01)\n",
        "y=1/(1+np.exp(-x))\n",
        "\n",
        "fig,ax=plt.subplots()\n",
        "\n",
        "ax.plot(x,y)"
      ],
      "execution_count": 0,
      "outputs": []
    },
    {
      "cell_type": "code",
      "metadata": {
        "id": "pyCn-wZALMGY",
        "colab_type": "code",
        "colab": {}
      },
      "source": [
        "import numpy as np\n",
        "import matplotlib.pyplot as plt\n",
        "\n",
        "\n",
        "\n",
        "fig,ax=plt.subplots()\n",
        "\n",
        "ax.plot(x,y)"
      ],
      "execution_count": 0,
      "outputs": []
    },
    {
      "cell_type": "code",
      "metadata": {
        "id": "arQmTB9xMi3-",
        "colab_type": "code",
        "colab": {}
      },
      "source": [
        "import numpy as np\n",
        "import matplotlib.pyplot as plt\n",
        "\n",
        "x=np.arange(0.0,4.0,0.01)\n",
        "y=x**2-x-2\n",
        "\n",
        "\n",
        "fig,ax=plt.subplots()\n",
        "\n",
        "ax.plot(x,y)"
      ],
      "execution_count": 0,
      "outputs": []
    },
    {
      "cell_type": "code",
      "metadata": {
        "id": "u3LHIK4CNIOv",
        "colab_type": "code",
        "colab": {}
      },
      "source": [
        "import numpy as np\n",
        "import matplotlib.pyplot as plt\n",
        "\n",
        "x=np.arange(0.0,4.0,0.01)\n",
        "y=(x+(np.sin(x)))**2/(np.cos(x))*np.pi*(np.cos(x))/(np.sin(x))\n",
        "\n",
        "fig,ax=plt.subplots()\n",
        "ax.plot(x,y)"
      ],
      "execution_count": 0,
      "outputs": []
    },
    {
      "cell_type": "code",
      "metadata": {
        "id": "X76Sw-UmOvk2",
        "colab_type": "code",
        "colab": {}
      },
      "source": [
        "import numpy as np\n",
        "import matplotlib.pyplot as plt\n",
        "\n",
        "x=np.arange(-10.0,10.0,0.001)\n",
        "y=x**2\n",
        "\n",
        "fig,ax=plt.subplots()\n",
        "\n",
        "ax.plot(x,y)"
      ],
      "execution_count": 0,
      "outputs": []
    },
    {
      "cell_type": "code",
      "metadata": {
        "id": "6kLWWqJPQi9t",
        "colab_type": "code",
        "colab": {}
      },
      "source": [
        "import numpy as np\n",
        "import matplotlib.pyplot as plt\n",
        "\n",
        "x=np.arange(-10.0,10.0,0.001)\n",
        "y=np.sin(x+(2*np.pi*x))\n",
        "\n",
        "fig,ax=plt.subplots()\n",
        "\n",
        "ax.plot(x,y)"
      ],
      "execution_count": 0,
      "outputs": []
    },
    {
      "cell_type": "code",
      "metadata": {
        "id": "hIAmJ5neSB6t",
        "colab_type": "code",
        "colab": {}
      },
      "source": [
        "import numpy as np\n",
        "import matplotlib.pyplot as plt\n",
        "\n",
        "x=np.arange(-10.0,10.0,0.001)\n",
        "y=np.cos((np.pi/6)+(4*np.pi*x))\n",
        "\n",
        "fig,ax=plt.subplots()\n",
        "\n",
        "ax.plot(x,y)"
      ],
      "execution_count": 0,
      "outputs": []
    },
    {
      "cell_type": "code",
      "metadata": {
        "id": "JUpKdGF7SwAt",
        "colab_type": "code",
        "colab": {}
      },
      "source": [
        "import numpy as np\n",
        "import matplotlib.pyplot as plt\n",
        "\n",
        "x=np.arange(-10.0,10.0,0.001)\n",
        "y=[]\n",
        "for v in x:\n",
        "  if v<=1:\n",
        "    y.append(1-v)\n",
        "  if v>1:\n",
        "    y.append(v**2)\n",
        "\n",
        "fig,ax=plt.subplots()\n",
        "\n",
        "ax.plot(x,y)"
      ],
      "execution_count": 0,
      "outputs": []
    },
    {
      "cell_type": "code",
      "metadata": {
        "id": "kxH_YV64Ui31",
        "colab_type": "code",
        "colab": {}
      },
      "source": [
        "import numpy as np\n",
        "import matplotlib.pyplot as plt\n",
        "\n",
        "x=np.arange(-10.0,10.0,0.001)\n",
        "y=-(x-1)-(x+2)\n",
        "\n",
        "fig,ax=plt.subplots()\n",
        "\n",
        "ax.plot(x,y)"
      ],
      "execution_count": 0,
      "outputs": []
    },
    {
      "cell_type": "code",
      "metadata": {
        "id": "RN1lvHUmVJdU",
        "colab_type": "code",
        "colab": {}
      },
      "source": [
        "import numpy as np\n",
        "import matplotlib.pyplot as plt\n",
        "\n",
        "x=np.arange(-10.0,10.0,0.001)\n",
        "y=-(x**3-(2.5*x))\n",
        "\n",
        "fig,ax=plt.subplots()\n",
        "\n",
        "ax.plot(x,y)"
      ],
      "execution_count": 0,
      "outputs": []
    },
    {
      "cell_type": "code",
      "metadata": {
        "id": "VwAfSOT2Vl_V",
        "colab_type": "code",
        "colab": {}
      },
      "source": [
        "import numpy as np\n",
        "import matplotlib.pyplot as plt\n",
        "\n",
        "x=np.arange(-10.0,10.0,0.001)\n",
        "y=[]\n",
        "for v in x:\n",
        "  if v<=-2:\n",
        "    y.append(-2*v-1)\n",
        "  if -2<v and v<1:\n",
        "    y.append(3)\n",
        "  if 1<v:\n",
        "    y.append(2*v+1)\n",
        "    \n",
        "\n",
        "fig,ax=plt.subplots()\n",
        "ax.plot(x,y)"
      ],
      "execution_count": 0,
      "outputs": []
    },
    {
      "cell_type": "code",
      "metadata": {
        "id": "cyu37ysxw5Tl",
        "colab_type": "code",
        "colab": {}
      },
      "source": [
        "import numpy as np\n",
        "import matplotlib.pyplot as plt\n",
        "\n",
        "x=np.arange(-10.0,10.0,0.001)\n",
        "y=-((x**2)-(2*5*x))\n",
        "\n",
        "fig,ax=plt.subplots()\n",
        "\n",
        "ax.plot(x,y)"
      ],
      "execution_count": 0,
      "outputs": []
    },
    {
      "cell_type": "code",
      "metadata": {
        "id": "EXyG1hzbx1Xr",
        "colab_type": "code",
        "colab": {}
      },
      "source": [
        "import numpy as np\n",
        "import matplotlib.pyplot as plt\n",
        "\n",
        "x=np.arange(-10.0,10.0,0.001)\n",
        "y=(x**2-1)/(x-1)\n",
        "\n",
        "fig,ax=plt.subplots()\n",
        "\n",
        "ax.plot(x,y)"
      ],
      "execution_count": 0,
      "outputs": []
    },
    {
      "cell_type": "code",
      "metadata": {
        "id": "8DT6z18vyFnT",
        "colab_type": "code",
        "colab": {}
      },
      "source": [
        "import numpy as np\n",
        "import matplotlib.pyplot as plt\n",
        "\n",
        "x=np.arange(-10.0,10.0,0.001)\n",
        "y=x+(1/x)\n",
        "\n",
        "fig,ax=plt.subplots()\n",
        "ax.plot(x,y)"
      ],
      "execution_count": 0,
      "outputs": []
    }
  ]
}